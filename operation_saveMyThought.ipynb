{
  "cells": [
    {
      "cell_type": "code",
      "source": [
        "from google.colab import drive\n",
        "drive.mount('/content/drive')"
      ],
      "metadata": {
        "colab": {
          "base_uri": "https://localhost:8080/"
        },
        "id": "OrpW3x64wtpc",
        "outputId": "c489d5cb-fe2e-44fc-f555-88adee0e977a"
      },
      "execution_count": 101,
      "outputs": [
        {
          "output_type": "stream",
          "name": "stdout",
          "text": [
            "Drive already mounted at /content/drive; to attempt to forcibly remount, call drive.mount(\"/content/drive\", force_remount=True).\n"
          ]
        }
      ]
    },
    {
      "cell_type": "code",
      "execution_count": 102,
      "metadata": {
        "id": "3fH6XPRuwf6S"
      },
      "outputs": [],
      "source": [
        "import numpy as np\n",
        "import pandas as pd\n",
        "from torch.utils.data import TensorDataset, DataLoader\n",
        "import torch\n",
        "import matplotlib.pyplot as plt\n",
        "import torchtext\n",
        "from string import punctuation\n",
        "from torchtext.data.utils import get_tokenizer\n",
        "from torchtext.vocab import build_vocab_from_iterator\n",
        "from sklearn.model_selection import train_test_split\n",
        "import torch.nn as nn\n",
        "import torch.nn.functional as F\n",
        "\n",
        "train_data = pd.read_csv('./drive/MyDrive/Data/train.csv')"
      ]
    },
    {
      "cell_type": "code",
      "execution_count": 103,
      "metadata": {
        "id": "ZKwerBhfwf6U"
      },
      "outputs": [],
      "source": [
        "device = torch.device('cuda' if torch.cuda.is_available() else 'cpu')"
      ]
    },
    {
      "cell_type": "code",
      "execution_count": 104,
      "metadata": {
        "colab": {
          "base_uri": "https://localhost:8080/"
        },
        "id": "NZdrjKWqwf6U",
        "outputId": "810d4f10-c29b-4eb6-d77a-1777521e1224"
      },
      "outputs": [
        {
          "output_type": "execute_result",
          "data": {
            "text/plain": [
              "array([3, 4, 2, 1])"
            ]
          },
          "metadata": {},
          "execution_count": 104
        }
      ],
      "source": [
        "train_data['Class Index'].unique()"
      ]
    },
    {
      "cell_type": "code",
      "execution_count": 105,
      "metadata": {
        "id": "b9b3gEETwf6X"
      },
      "outputs": [],
      "source": [
        "classes = ['World', 'Sports', 'Business', 'Sci/Tech']"
      ]
    },
    {
      "cell_type": "code",
      "execution_count": 106,
      "metadata": {
        "colab": {
          "base_uri": "https://localhost:8080/",
          "height": 36
        },
        "id": "UgS9TH7pwf6X",
        "outputId": "3eca32bb-fbf2-47e3-bde2-aeb0756a54bd"
      },
      "outputs": [
        {
          "output_type": "execute_result",
          "data": {
            "application/vnd.google.colaboratory.intrinsic+json": {
              "type": "string"
            },
            "text/plain": [
              "\" NEW YORK (Reuters) - Short-sellers, Wall Street's dwindling  band of ultra-cynics, are seeing green again.\""
            ]
          },
          "metadata": {},
          "execution_count": 106
        }
      ],
      "source": [
        "train_data['Description'][9]"
      ]
    },
    {
      "cell_type": "code",
      "execution_count": 107,
      "metadata": {
        "colab": {
          "base_uri": "https://localhost:8080/"
        },
        "id": "-ZZaRL7fwf6Y",
        "outputId": "47df70f3-2643-4e98-cdb3-0ca7b4ce5f8f"
      },
      "outputs": [
        {
          "output_type": "execute_result",
          "data": {
            "text/plain": [
              "4"
            ]
          },
          "metadata": {},
          "execution_count": 107
        }
      ],
      "source": [
        "train_data['Class Index'][8000]"
      ]
    },
    {
      "cell_type": "code",
      "execution_count": 108,
      "metadata": {
        "id": "G84HM1V3wf6Y"
      },
      "outputs": [],
      "source": [
        "labels = np.array(train_data['Class Index']).tolist()\n",
        "description = np.array(train_data['Description']).tolist()\n",
        "title = np.array(train_data['Title']).tolist()"
      ]
    },
    {
      "cell_type": "code",
      "execution_count": 109,
      "metadata": {
        "id": "15Zy5Kd-wf6Y"
      },
      "outputs": [],
      "source": [
        "data = [singleTitle + \" \" + description[i]  for i, singleTitle in enumerate(title)]   "
      ]
    },
    {
      "cell_type": "code",
      "execution_count": 110,
      "metadata": {
        "colab": {
          "base_uri": "https://localhost:8080/",
          "height": 338
        },
        "id": "658H-IiQwf6Z",
        "outputId": "ded66355-2bce-4278-d168-73e959b4a441"
      },
      "outputs": [
        {
          "output_type": "execute_result",
          "data": {
            "text/plain": [
              "(array([30000.,     0.,     0., 30000.,     0.,     0., 30000.,     0.,\n",
              "            0., 30000.]),\n",
              " array([1. , 1.3, 1.6, 1.9, 2.2, 2.5, 2.8, 3.1, 3.4, 3.7, 4. ]),\n",
              " <a list of 10 Patch objects>)"
            ]
          },
          "metadata": {},
          "execution_count": 110
        },
        {
          "output_type": "display_data",
          "data": {
            "image/png": "[encoded data removed]",
            "text/plain": [
              "<Figure size 432x288 with 1 Axes>"
            ]
          },
          "metadata": {
            "needs_background": "light"
          }
        }
      ],
      "source": [
        "\n",
        "\n",
        "plt.hist(labels)"
      ]
    },
    {
      "cell_type": "code",
      "execution_count": 111,
      "metadata": {
        "colab": {
          "base_uri": "https://localhost:8080/"
        },
        "id": "hMjVN6B_wf6Z",
        "outputId": "62104d83-a0a5-446d-81bc-8396857d203d"
      },
      "outputs": [
        {
          "output_type": "execute_result",
          "data": {
            "text/plain": [
              "2.5"
            ]
          },
          "metadata": {},
          "execution_count": 111
        }
      ],
      "source": [
        "np.mean(labels)"
      ]
    },
    {
      "cell_type": "code",
      "execution_count": 112,
      "metadata": {
        "colab": {
          "base_uri": "https://localhost:8080/"
        },
        "id": "k7qKkHQ6wf6a",
        "outputId": "f4395b33-61fc-4127-a819-616ca8fa31b0"
      },
      "outputs": [
        {
          "output_type": "stream",
          "name": "stdout",
          "text": [
            "Applied Materials Reports Profit in 3Q Applied Materials Inc., the world #39;s largest supplier of machines that make computer chips, Tuesday said surging sales in its latest quarter surpassed its own and Wall Street estimates.  --> Business\n"
          ]
        }
      ],
      "source": [
        "print(data[2000] + \" --> \" + classes[labels[2000] - 1])"
      ]
    },
    {
      "cell_type": "markdown",
      "metadata": {
        "id": "A8c00E5Zwf6a"
      },
      "source": [
        "PreProcessing From here --> torchtext"
      ]
    },
    {
      "cell_type": "code",
      "execution_count": 113,
      "metadata": {
        "colab": {
          "base_uri": "https://localhost:8080/"
        },
        "id": "SRPMGvMzwf6b",
        "outputId": "e2160bd4-9a90-4ffe-a945-a0aefd134b04"
      },
      "outputs": [
        {
          "output_type": "execute_result",
          "data": {
            "text/plain": [
              "['wall',\n",
              " 'st',\n",
              " '.',\n",
              " 'bears',\n",
              " 'claw',\n",
              " 'back',\n",
              " 'into',\n",
              " 'the',\n",
              " 'black',\n",
              " '(',\n",
              " 'reuters',\n",
              " ')',\n",
              " 'reuters',\n",
              " '-',\n",
              " 'short-sellers',\n",
              " ',',\n",
              " 'wall',\n",
              " 'street',\n",
              " \"'\",\n",
              " 's',\n",
              " 'dwindling\\\\band',\n",
              " 'of',\n",
              " 'ultra-cynics',\n",
              " ',',\n",
              " 'are',\n",
              " 'seeing',\n",
              " 'green',\n",
              " 'again',\n",
              " '.']"
            ]
          },
          "metadata": {},
          "execution_count": 113
        }
      ],
      "source": [
        "# tokenizer, changing the values to tokens\n",
        "tokenizer = get_tokenizer('basic_english')\n",
        "tokenizer(data[0])"
      ]
    },
    {
      "cell_type": "code",
      "execution_count": 114,
      "metadata": {
        "colab": {
          "base_uri": "https://localhost:8080/",
          "height": 36
        },
        "id": "T8rW36OKwf6c",
        "outputId": "42aac17a-63fe-4b9a-e47c-56cb85c20390"
      },
      "outputs": [
        {
          "output_type": "execute_result",
          "data": {
            "application/vnd.google.colaboratory.intrinsic+json": {
              "type": "string"
            },
            "text/plain": [
              "'Hello cool'"
            ]
          },
          "metadata": {},
          "execution_count": 114
        }
      ],
      "source": [
        "clean_data = lambda x: ''.join([i for i in x if i not in punctuation])\n",
        "test = clean_data(\"Hello #cool\")\n",
        "test"
      ]
    },
    {
      "cell_type": "code",
      "execution_count": 115,
      "metadata": {
        "id": "8sdvWy8Gwf6c"
      },
      "outputs": [],
      "source": [
        "def yield_tokens(batch):\n",
        "    for i in batch:\n",
        "        yield tokenizer(i)\n",
        "\n",
        "vocab = build_vocab_from_iterator(yield_tokens(data), specials=['<unk>'])\n",
        "vocab.set_default_index(vocab[\"<unk>\"])"
      ]
    },
    {
      "cell_type": "code",
      "execution_count": 116,
      "metadata": {
        "id": "yqdwumaRwf6c"
      },
      "outputs": [],
      "source": [
        "text_pipeline = lambda x: vocab(tokenizer(x))\n",
        "label_pipeline = lambda x: int(x) - 1"
      ]
    },
    {
      "cell_type": "code",
      "execution_count": 117,
      "metadata": {
        "id": "za-ySwqawf6d"
      },
      "outputs": [],
      "source": [
        "new_clean_data = [clean_data(i) for i in data]"
      ]
    },
    {
      "cell_type": "code",
      "execution_count": 118,
      "metadata": {
        "colab": {
          "base_uri": "https://localhost:8080/",
          "height": 55
        },
        "id": "3GT-1d7Lwf6d",
        "outputId": "1024a27a-4855-45fd-8382-9da12b3c2309"
      },
      "outputs": [
        {
          "output_type": "execute_result",
          "data": {
            "application/vnd.google.colaboratory.intrinsic+json": {
              "type": "string"
            },
            "text/plain": [
              "'Wall St Bears Claw Back Into the Black Reuters Reuters  Shortsellers Wall Streets dwindlingband of ultracynics are seeing green again'"
            ]
          },
          "metadata": {},
          "execution_count": 118
        }
      ],
      "source": [
        "new_clean_data[0]"
      ]
    },
    {
      "cell_type": "code",
      "execution_count": 119,
      "metadata": {
        "colab": {
          "base_uri": "https://localhost:8080/"
        },
        "id": "ZSpU_X6Zwf6d",
        "outputId": "a559d010-725f-4c77-882a-03906b47231d"
      },
      "outputs": [
        {
          "output_type": "execute_result",
          "data": {
            "text/plain": [
              "[21, 23, 73]"
            ]
          },
          "metadata": {},
          "execution_count": 119
        }
      ],
      "source": [
        "text_pipeline(\"is new york\")"
      ]
    },
    {
      "cell_type": "code",
      "execution_count": 120,
      "metadata": {
        "colab": {
          "base_uri": "https://localhost:8080/"
        },
        "id": "2PjqpmCawf6e",
        "outputId": "57894523-7171-4b37-93c1-61137bab1f1b"
      },
      "outputs": [
        {
          "output_type": "execute_result",
          "data": {
            "text/plain": [
              "[1605]"
            ]
          },
          "metadata": {},
          "execution_count": 120
        }
      ],
      "source": [
        "text_pipeline('Bears')"
      ]
    },
    {
      "cell_type": "code",
      "execution_count": 121,
      "metadata": {
        "id": "i2Jrr8hSwf6e"
      },
      "outputs": [],
      "source": [
        "data_ints = []\n",
        "\n",
        "for i in data:\n",
        "    data_ints.append(text_pipeline(i))"
      ]
    },
    {
      "cell_type": "code",
      "execution_count": 122,
      "metadata": {
        "colab": {
          "base_uri": "https://localhost:8080/"
        },
        "id": "C4xZ9aQzwf6e",
        "outputId": "eab7db92-2228-44f1-96aa-fa0b79e7322d"
      },
      "outputs": [
        {
          "output_type": "execute_result",
          "data": {
            "text/plain": [
              "[431,\n",
              " 427,\n",
              " 1,\n",
              " 1605,\n",
              " 14836,\n",
              " 113,\n",
              " 66,\n",
              " 2,\n",
              " 848,\n",
              " 13,\n",
              " 27,\n",
              " 14,\n",
              " 27,\n",
              " 15,\n",
              " 50718,\n",
              " 3,\n",
              " 431,\n",
              " 374,\n",
              " 16,\n",
              " 9,\n",
              " 67497,\n",
              " 6,\n",
              " 52251,\n",
              " 3,\n",
              " 42,\n",
              " 4009,\n",
              " 782,\n",
              " 325,\n",
              " 1]"
            ]
          },
          "metadata": {},
          "execution_count": 122
        }
      ],
      "source": [
        "data_ints[0]"
      ]
    },
    {
      "cell_type": "code",
      "execution_count": 123,
      "metadata": {
        "id": "qpH5L7HVwf6f"
      },
      "outputs": [],
      "source": [
        "non_zero_idx = [i for i, review in enumerate(data_ints) if len(review) != 0]\n",
        "\n",
        "data_ints = [data_ints[i] for i in non_zero_idx]\n",
        "encoded_labels = np.array([label_pipeline(labels[i]) for i in non_zero_idx])"
      ]
    },
    {
      "cell_type": "code",
      "execution_count": 124,
      "metadata": {
        "colab": {
          "base_uri": "https://localhost:8080/"
        },
        "id": "fwZvovktwf6f",
        "outputId": "531b42ef-ebf0-4515-a8eb-3224a5c0e031"
      },
      "outputs": [
        {
          "output_type": "stream",
          "name": "stdout",
          "text": [
            "120000\n",
            "43.276516666666666\n"
          ]
        }
      ],
      "source": [
        "data_lens = [len(i) for i in data_ints]\n",
        "print(len(data))\n",
        "print(np.mean(data_lens))"
      ]
    },
    {
      "cell_type": "code",
      "execution_count": 125,
      "metadata": {
        "id": "9XVuT7Ypwf6f"
      },
      "outputs": [],
      "source": [
        "def pad_features(data_ints, seq_length):\n",
        "    ''' Return features of review_ints, where each review is padded with 0's \n",
        "        or truncated to the input seq_length.\n",
        "    '''\n",
        "    \n",
        "    # getting the correct rows x cols shape\n",
        "    features = np.zeros((len(data_ints), seq_length), dtype=int)\n",
        "\n",
        "    # for each review, I grab that review and \n",
        "    for i, row in enumerate(data_ints):\n",
        "        features[i, -len(row):] = np.array(row)[:seq_length]\n",
        "    \n",
        "    return features\n",
        "\n",
        "seq_length = 45\n",
        "features = pad_features(data_ints,seq_length )"
      ]
    },
    {
      "cell_type": "code",
      "execution_count": 126,
      "metadata": {
        "colab": {
          "base_uri": "https://localhost:8080/"
        },
        "id": "kVSA9Owkwf6g",
        "outputId": "f4a33ee2-f7dd-426c-c178-5b1b17132a56"
      },
      "outputs": [
        {
          "output_type": "execute_result",
          "data": {
            "text/plain": [
              "(45,)"
            ]
          },
          "metadata": {},
          "execution_count": 126
        }
      ],
      "source": [
        "features[0].shape"
      ]
    },
    {
      "cell_type": "code",
      "execution_count": 127,
      "metadata": {
        "id": "1CTaWJRJwf6g"
      },
      "outputs": [],
      "source": [
        "train_data, test_data, train_labels, test_labels = train_test_split(np.array(features), encoded_labels, train_size=.9)"
      ]
    },
    {
      "cell_type": "code",
      "execution_count": 128,
      "metadata": {
        "id": "fjXDy8B7wf6g"
      },
      "outputs": [],
      "source": [
        "\n",
        "\n",
        "train_dataset = TensorDataset(torch.tensor(train_data, dtype=torch.float), torch.tensor(train_labels, dtype=torch.long))\n",
        "test_dataset = TensorDataset(torch.tensor(test_data, dtype=torch.float), torch.tensor(test_labels, dtype=torch.long))\n",
        "\n",
        "batch_size = 45\n",
        "train_loader = DataLoader(train_dataset, batch_size=batch_size, shuffle=True)\n",
        "test_loader = DataLoader(test_dataset, batch_size=batch_size, shuffle=True)"
      ]
    },
    {
      "cell_type": "code",
      "execution_count": 129,
      "metadata": {
        "colab": {
          "base_uri": "https://localhost:8080/"
        },
        "id": "P53d7zuvwf6g",
        "outputId": "45196862-35cd-48bb-f953-ff079b93ff75"
      },
      "outputs": [
        {
          "output_type": "execute_result",
          "data": {
            "text/plain": [
              "torch.Size([45, 45])"
            ]
          },
          "metadata": {},
          "execution_count": 129
        }
      ],
      "source": [
        "X, y = next(iter(train_loader))\n",
        "X.shape"
      ]
    },
    {
      "cell_type": "code",
      "execution_count": 160,
      "metadata": {
        "id": "0kBKw8smwf6h"
      },
      "outputs": [],
      "source": [
        "class newsRNN(nn.Module):\n",
        "    def __init__(self, vocab_size, embedding_dim ,hidden_dim, output_dim, n_layers) -> None:\n",
        "        super().__init__()\n",
        "        self.n_layers = n_layers\n",
        "        self.hidden_dim = hidden_dim\n",
        "        self.output_size = output_dim\n",
        "\n",
        "\n",
        "        self.embedding = nn.Embedding(vocab_size, embedding_dim)\n",
        "        self.lstm = nn.LSTM(embedding_dim,hidden_dim, n_layers, dropout=0.5, batch_first=True)\n",
        "        self.fcl = nn.Linear(hidden_dim, 16)\n",
        "        self.fc2 = nn.Linear(16, output_dim)\n",
        "        self.dropout = nn.Dropout(0.3)\n",
        "    \n",
        "\n",
        "    def forward(self, x, hidden):\n",
        "        batch_size = x.size(0)\n",
        "\n",
        "        x = x.long()\n",
        "\n",
        "        embedded = self.embedding(x)\n",
        "        lstm_out, hidden = self.lstm(embedded, hidden)\n",
        "        lstm_out = lstm_out[:, -1, :]\n",
        "        out = self.dropout(lstm_out)\n",
        "\n",
        "        out = torch.relu(self.fcl(out))\n",
        "        out = torch.softmax(self.fc2(out), axis=1)\n",
        "\n",
        "        return out, hidden\n",
        "        \n",
        "\n",
        "    \n",
        "    def init_hidden(self, batch_size):\n",
        "        weight = next(self.parameters()).data\n",
        "\n",
        "        hidden = (weight.new(self.n_layers, batch_size, self.hidden_dim).zero_().to(device),\n",
        "                    weight.new(self.n_layers, batch_size, self.hidden_dim).zero_().to(device))\n",
        "        return hidden\n",
        "\n"
      ]
    },
    {
      "cell_type": "code",
      "execution_count": 161,
      "metadata": {
        "id": "fc4BUJe4wf6h"
      },
      "outputs": [],
      "source": [
        "vocab_size = len(vocab)\n",
        "embedding_dim = 400\n",
        "output = 4\n",
        "n_layers = 2\n",
        "hidden_dim = 256\n",
        "\n",
        "net = newsRNN(vocab_size, embedding_dim, hidden_dim, output, n_layers)"
      ]
    },
    {
      "cell_type": "code",
      "execution_count": 162,
      "metadata": {
        "colab": {
          "base_uri": "https://localhost:8080/"
        },
        "id": "X7ARj85nwf6i",
        "outputId": "8b46eb4a-df83-4a41-9e7b-015246e4e533"
      },
      "outputs": [
        {
          "output_type": "execute_result",
          "data": {
            "text/plain": [
              "tensor([0, 1, 0, 0, 0, 0, 1, 1, 0, 0, 1, 0, 0, 1, 0, 1, 1, 0, 0, 1, 3, 0, 1, 0,\n",
              "        0, 1, 1, 1, 0, 0, 0, 0, 0, 0, 0, 0, 0, 1, 0, 0, 1, 0, 0, 0, 0],\n",
              "       device='cuda:0')"
            ]
          },
          "metadata": {},
          "execution_count": 162
        }
      ],
      "source": [
        "X, y = next(iter(train_loader))\n",
        "X = X.to(device)\n",
        "y = y.to(device)\n",
        "net = net.to(device)\n",
        "h = net.init_hidden(batch_size)\n",
        "h = tuple([each.data for each in h])\n",
        "\n",
        "yhat, h = net(X, h)\n",
        "yhat.argmax(1)\n"
      ]
    },
    {
      "cell_type": "code",
      "execution_count": 163,
      "metadata": {
        "colab": {
          "base_uri": "https://localhost:8080/"
        },
        "id": "lzub0vanwf6i",
        "outputId": "230f3af2-91c2-4e8d-c5d2-1a805cd2d07e"
      },
      "outputs": [
        {
          "output_type": "execute_result",
          "data": {
            "text/plain": [
              "tensor(20., device='cuda:0')"
            ]
          },
          "metadata": {},
          "execution_count": 163
        }
      ],
      "source": [
        "100 *torch.mean((yhat.argmax(1) == y).float())"
      ]
    },
    {
      "cell_type": "code",
      "execution_count": 168,
      "metadata": {
        "id": "50ZTYp1lwf6i"
      },
      "outputs": [],
      "source": [
        "def trainRNNModel():\n",
        "    numepochs = 8\n",
        "    losses = torch.zeros(numepochs)\n",
        "    totalAccuracy = []\n",
        "    net = newsRNN(vocab_size, embedding_dim, hidden_dim, output, n_layers)\n",
        "    net = net.to(device)\n",
        "\n",
        "    lossfun = nn.CrossEntropyLoss()\n",
        "    optimizer = torch.optim.Adam(net.parameters(), lr=0.001)\n",
        "    clip = 5\n",
        "\n",
        "    for epoch in range(numepochs):\n",
        "        batchAccuracy = []\n",
        "        batchLosses = []\n",
        "\n",
        "        h = net.init_hidden(batch_size)\n",
        "\n",
        "        for X, y in train_loader:\n",
        "            X = X.to(device)\n",
        "            y = y.to(device)\n",
        "            h = tuple([each.data for each in h])\n",
        "            yhat, h = net(X, h)\n",
        "\n",
        "            loss = lossfun(yhat.squeeze(), y)\n",
        "\n",
        "\n",
        "            optimizer.zero_grad()\n",
        "            loss.backward()\n",
        "\n",
        "            nn.utils.clip_grad_norm_(net.parameters(), clip)\n",
        "\n",
        "            optimizer.step()\n",
        "\n",
        "            batchLosses.append(loss.item())\n",
        "\n",
        "            accuracy = 100 * torch.mean((yhat.argmax(1) == y).float())\n",
        "            batchAccuracy.append(accuracy.item())\n",
        "\n",
        "            net.train()\n",
        "\n",
        "        print(f\"Epoch {epoch}\")\n",
        "        losses[epoch] = np.mean(batchLosses)\n",
        "        totalAccuracy.append(np.mean(batchAccuracy))\n",
        "\n",
        "    return losses, totalAccuracy, net"
      ]
    },
    {
      "cell_type": "code",
      "execution_count": 169,
      "metadata": {
        "colab": {
          "base_uri": "https://localhost:8080/"
        },
        "id": "sl7u3J0fwf6j",
        "outputId": "0ed63916-5d16-418f-81af-7b2cbba0cbf2"
      },
      "outputs": [
        {
          "output_type": "stream",
          "name": "stdout",
          "text": [
            "Epoch 0\n",
            "Epoch 1\n",
            "Epoch 2\n",
            "Epoch 3\n",
            "Epoch 4\n",
            "Epoch 5\n",
            "Epoch 6\n",
            "Epoch 7\n"
          ]
        }
      ],
      "source": [
        "RnnLosses, RnnAcc, RnnNet = trainRNNModel()"
      ]
    },
    {
      "cell_type": "code",
      "source": [
        "import matplotlib.pyplot as plt\n",
        "plt.plot(RnnAcc)"
      ],
      "metadata": {
        "colab": {
          "base_uri": "https://localhost:8080/",
          "height": 283
        },
        "id": "pOjySD-UynJm",
        "outputId": "b41f62c2-7f6b-47a5-f229-f0a8c68495bb"
      },
      "execution_count": 170,
      "outputs": [
        {
          "output_type": "execute_result",
          "data": {
            "text/plain": [
              "[<matplotlib.lines.Line2D at 0x7fc0b569d5d0>]"
            ]
          },
          "metadata": {},
          "execution_count": 170
        },
        {
          "output_type": "display_data",
          "data": {
            "image/png": "[encoded data removed]",
            "text/plain": [
              "<Figure size 432x288 with 1 Axes>"
            ]
          },
          "metadata": {
            "needs_background": "light"
          }
        }
      ]
    },
    {
      "cell_type": "code",
      "source": [
        "torch.save(net.state_dict(), 'rnn.pth')"
      ],
      "metadata": {
        "id": "HWk8xQnbTGor"
      },
      "execution_count": 171,
      "outputs": []
    },
    {
      "cell_type": "markdown",
      "metadata": {
        "id": "lc-AUBxLwf6j"
      },
      "source": [
        "Linear Model --> No Rnn computations from this point onward"
      ]
    },
    {
      "cell_type": "code",
      "execution_count": null,
      "metadata": {
        "id": "dtNPGLPAwf6j"
      },
      "outputs": [],
      "source": [
        "def LinearModel(vocab_size, embedding_dim):\n",
        "    class model(nn.Module):\n",
        "        def __init__(self, vocab_size, embedding_dim) -> None:\n",
        "            super().__init__()\n",
        "            self.embedding = nn.EmbeddingBag(vocab_size, embedding_dim)\n",
        "            self.fc1 = nn.Linear(embedding_dim, 16)\n",
        "            self.fc2 = nn.Linear(16, 16)\n",
        "            self.output = nn.Linear(16, 4)\n",
        "        \n",
        "        def forward(self, x):\n",
        "            x = x.long()\n",
        "            embedded = self.embedding(x)\n",
        "            x = torch.relu(self.fc1(embedded))\n",
        "            x = torch.relu(self.fc2(x))\n",
        "            x = self.output(x)\n",
        "            return x\n",
        "    net = model(vocab_size, embedding_dim)\n",
        "    lossfun = nn.CrossEntropyLoss()\n",
        "    optimizer = torch.optim.Adam(net.parameters(), lr=.01)\n",
        "\n",
        "    return net, lossfun, optimizer\n",
        "    "
      ]
    },
    {
      "cell_type": "code",
      "execution_count": null,
      "metadata": {
        "id": "UP7nMxIXwf6k"
      },
      "outputs": [],
      "source": [
        "LinearNet, lossfun, optimizer = LinearModel(vocab_size, embedding_dim ) \n",
        "X, y = next(iter(train_loader))\n",
        "yhat = LinearNet(X)\n",
        "yhat.argmax(1)"
      ]
    },
    {
      "cell_type": "code",
      "execution_count": null,
      "metadata": {
        "id": "wL6MlIx_wf6k"
      },
      "outputs": [],
      "source": [
        "lossfun(yhat, y)"
      ]
    },
    {
      "cell_type": "code",
      "execution_count": null,
      "metadata": {
        "id": "nBfYTavIwf6k"
      },
      "outputs": [],
      "source": [
        "accuracyT = 100 * torch.mean((yhat.argmax(1) == y).float())\n",
        "accuracyT.item()"
      ]
    },
    {
      "cell_type": "code",
      "execution_count": null,
      "metadata": {
        "id": "kpmRR2Ccwf6k"
      },
      "outputs": [],
      "source": [
        "def trainModel():\n",
        "    numepochs = 10\n",
        "    losses = torch.zeros(numepochs)\n",
        "    totalAccuracy = []\n",
        "    testAccuracy = []\n",
        "    net, lossfun, optimizer = LinearModel(vocab_size, embedding_dim ) \n",
        "    net = net.to(device)\n",
        "\n",
        "    for epoch in range(numepochs):\n",
        "        batchAccuracy = []\n",
        "        batchLosses = []\n",
        "\n",
        "        batchTest = []\n",
        "\n",
        "        net.train()\n",
        "        for X, y in train_loader:\n",
        "            X = X.to(device)\n",
        "            y = y.to(device)\n",
        "            yhat = net(X)\n",
        "\n",
        "            loss = lossfun(yhat, y)\n",
        "\n",
        "            optimizer.zero_grad()\n",
        "            loss.backward()\n",
        "            optimizer.step()\n",
        "\n",
        "\n",
        "\n",
        "            batchLosses.append(loss.item())\n",
        "\n",
        "            accuracy = 100 * torch.mean((yhat.argmax(1) == y).float())\n",
        "            batchAccuracy.append(accuracy.item())\n",
        "        net.eval()\n",
        "        \n",
        "        for X, y in test_loader:\n",
        "          X = X.to(device)\n",
        "          y = y.to(device)\n",
        "\n",
        "          yhat =net(X)\n",
        "          accuracy = 100 * torch.mean((yhat.argmax(1) == y).float())\n",
        "          batchTest.append(accuracy.item())\n",
        "\n",
        "\n",
        "\n",
        "        print(f\"Epoch {epoch}\")\n",
        "        losses[epoch] = np.mean(batchLosses)\n",
        "        totalAccuracy.append(np.mean(batchAccuracy))\n",
        "        testAccuracy.append(np.mean(batchTest))\n",
        "\n",
        "    return losses, totalAccuracy, testAccuracy ,net"
      ]
    },
    {
      "cell_type": "code",
      "execution_count": null,
      "metadata": {
        "id": "Uf4ZND5Bwf6l"
      },
      "outputs": [],
      "source": [
        "LinearLosses, LinearAccuracy, testAccuracy,LinearNet = trainModel()"
      ]
    },
    {
      "cell_type": "code",
      "execution_count": null,
      "metadata": {
        "id": "Q0ipduOjwf6l"
      },
      "outputs": [],
      "source": [
        "import matplotlib.pyplot as plt\n",
        "plt.plot(LinearLosses)"
      ]
    },
    {
      "cell_type": "code",
      "source": [
        "plt.plot(LinearAccuracy)"
      ],
      "metadata": {
        "id": "GlOcuIQuAcJn"
      },
      "execution_count": null,
      "outputs": []
    },
    {
      "cell_type": "code",
      "source": [
        "plt.plot(testAccuracy)\n"
      ],
      "metadata": {
        "id": "J7wAjyczB4EW"
      },
      "execution_count": null,
      "outputs": []
    },
    {
      "cell_type": "code",
      "source": [
        "X, y = next(iter(test_loader))\n",
        "X, y = X.to(device), y.to(device)\n",
        "\n",
        "def fix(text):\n",
        "  fixed = [text_pipeline(text)]\n",
        "  features = pad_features(fixed, 45)\n",
        "\n",
        "  return torch.tensor(np.array(features))\n",
        "\n",
        "text = \"SPACE com  TORONTO Canada A second team of rocketeers competing for the  3610 million Ansari X Prize a contest for privately funded suborbital space flight has officially announced the first launch date for its manned rocket\"\n",
        "\n",
        "\n",
        "\n",
        "def predict(text):\n",
        "  textPred = fix(text).to(device)\n",
        "\n",
        "  with torch.no_grad():\n",
        "    yhat = LinearNet(textPred)\n",
        "\n",
        "  return \"Belongs to \" + classes[yhat.argmax(1).item()]\n",
        "predict(text)\n"
      ],
      "metadata": {
        "id": "ySfOvWO46sCG"
      },
      "execution_count": null,
      "outputs": []
    }
  ],
  "metadata": {
    "interpreter": {
      "hash": "2156b30ccf86f12cce57017c1d0afff085ab473cf0ed28ab0cdf74a42358ab99"
    },
    "kernelspec": {
      "display_name": "Python 3.9.7 64-bit ('tf': conda)",
      "language": "python",
      "name": "python3"
    },
    "language_info": {
      "codemirror_mode": {
        "name": "ipython",
        "version": 3
      },
      "file_extension": ".py",
      "mimetype": "text/x-python",
      "name": "python",
      "nbconvert_exporter": "python",
      "pygments_lexer": "ipython3",
      "version": "3.9.7"
    },
    "orig_nbformat": 4,
    "colab": {
      "name": "operation_saveMyThought.ipynb",
      "provenance": [],
      "collapsed_sections": []
    },
    "accelerator": "GPU"
  },
  "nbformat": 4,
  "nbformat_minor": 0
}